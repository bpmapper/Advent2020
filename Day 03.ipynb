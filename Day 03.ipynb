{
 "cells": [
  {
   "cell_type": "markdown",
   "metadata": {},
   "source": [
    "# Day 03 Trees"
   ]
  },
  {
   "cell_type": "code",
   "execution_count": 1,
   "metadata": {},
   "outputs": [
    {
     "data": {
      "text/html": [
       "<div>\n",
       "<style scoped>\n",
       "    .dataframe tbody tr th:only-of-type {\n",
       "        vertical-align: middle;\n",
       "    }\n",
       "\n",
       "    .dataframe tbody tr th {\n",
       "        vertical-align: top;\n",
       "    }\n",
       "\n",
       "    .dataframe thead th {\n",
       "        text-align: right;\n",
       "    }\n",
       "</style>\n",
       "<table border=\"1\" class=\"dataframe\">\n",
       "  <thead>\n",
       "    <tr style=\"text-align: right;\">\n",
       "      <th></th>\n",
       "      <th>orig</th>\n",
       "    </tr>\n",
       "  </thead>\n",
       "  <tbody>\n",
       "    <tr>\n",
       "      <td>0</td>\n",
       "      <td>..#.#...#.#.#.##.....###.#....#</td>\n",
       "    </tr>\n",
       "    <tr>\n",
       "      <td>1</td>\n",
       "      <td>...........##.#...#.#..........</td>\n",
       "    </tr>\n",
       "    <tr>\n",
       "      <td>2</td>\n",
       "      <td>....#.....#..#.............#...</td>\n",
       "    </tr>\n",
       "    <tr>\n",
       "      <td>3</td>\n",
       "      <td>.#....###..##...#...##...#.#..#</td>\n",
       "    </tr>\n",
       "    <tr>\n",
       "      <td>4</td>\n",
       "      <td>#.......#.........#..#.......#.</td>\n",
       "    </tr>\n",
       "  </tbody>\n",
       "</table>\n",
       "</div>"
      ],
      "text/plain": [
       "                              orig\n",
       "0  ..#.#...#.#.#.##.....###.#....#\n",
       "1  ...........##.#...#.#..........\n",
       "2  ....#.....#..#.............#...\n",
       "3  .#....###..##...#...##...#.#..#\n",
       "4  #.......#.........#..#.......#."
      ]
     },
     "execution_count": 1,
     "metadata": {},
     "output_type": "execute_result"
    }
   ],
   "source": [
    "import pandas as pd\n",
    "df=pd.read_csv('day3.txt',header=None)\n",
    "df.columns=['orig']\n",
    "df.head()"
   ]
  },
  {
   "cell_type": "code",
   "execution_count": 2,
   "metadata": {},
   "outputs": [
    {
     "data": {
      "text/plain": [
       "0    0010100010101011000001110100001\n",
       "1    0000000000011010001010000000000\n",
       "2    0000100000100100000000000001000\n",
       "3    0100001110011000100011000101001\n",
       "4    1000000010000000001001000000010\n",
       "5    0001011001100010100000010110100\n",
       "6    1010011000001000001001100000000\n",
       "7    0001011110001011000100000000000\n",
       "8    0100010010010000101010101100000\n",
       "9    1101001011001000000100110101001\n",
       "Name: bin, dtype: object"
      ]
     },
     "execution_count": 2,
     "metadata": {},
     "output_type": "execute_result"
    }
   ],
   "source": [
    "# change tree/empty to ones/zeros\n",
    "df['bin']=df.orig.apply(lambda x: x.replace(\"#\",\"1\").replace(\".\",\"0\"))\n",
    "df['len']=df.bin.apply(len)\n",
    "forest=df.bin\n",
    "forest[:10]"
   ]
  },
  {
   "cell_type": "code",
   "execution_count": 3,
   "metadata": {},
   "outputs": [
    {
     "data": {
      "text/plain": [
       "31    323\n",
       "Name: len, dtype: int64"
      ]
     },
     "execution_count": 3,
     "metadata": {},
     "output_type": "execute_result"
    }
   ],
   "source": [
    "# length of rows\n",
    "df.len.value_counts()"
   ]
  },
  {
   "cell_type": "code",
   "execution_count": 6,
   "metadata": {},
   "outputs": [],
   "source": [
    "def numtrees(rows,right,down):\n",
    "    \n",
    "    # Select rows included based on DOWN instuction\n",
    "    data = [rows[x] for x in range(len(rows)) if x % down==0]\n",
    "    \n",
    "    trees=0\n",
    "    pos=0\n",
    "    \n",
    "    # loop through rows\n",
    "    for i in range(len(data)):\n",
    "        # is there a tree at current position\n",
    "        res=str(data[i])[pos:pos+1]\n",
    "        if res==\"1\":\n",
    "            trees +=1\n",
    "        # increment pos by RIGHT - if over 31 start from beginning\n",
    "        pos+=right\n",
    "        pos = pos % 31\n",
    "    return trees"
   ]
  },
  {
   "cell_type": "code",
   "execution_count": 8,
   "metadata": {},
   "outputs": [
    {
     "data": {
      "text/plain": [
       "178"
      ]
     },
     "execution_count": 8,
     "metadata": {},
     "output_type": "execute_result"
    }
   ],
   "source": [
    "# Part 1\n",
    "numtrees(forest,3,1)"
   ]
  },
  {
   "cell_type": "code",
   "execution_count": 9,
   "metadata": {},
   "outputs": [
    {
     "name": "stdout",
     "output_type": "stream",
     "text": [
      "78\n",
      "178\n",
      "75\n",
      "86\n",
      "39\n",
      "\n",
      "Product\n",
      "3492520200\n"
     ]
    }
   ],
   "source": [
    "# Part 2\n",
    "lst=[]\n",
    "for f in range(31):\n",
    "    lst.append(numtrees(forest,f,1))\n",
    "\n",
    "print(lst[1])\n",
    "print(lst[3])\n",
    "print(lst[5])\n",
    "print(lst[7])\n",
    "print(numtrees(forest,1,2))\n",
    "print()\n",
    "print(\"Product\")\n",
    "print (lst[1]*lst[3]*lst[5]*lst[7]*numtrees(forest,1,2))"
   ]
  },
  {
   "cell_type": "code",
   "execution_count": 12,
   "metadata": {},
   "outputs": [
    {
     "data": {
      "image/png": "[encoded data removed]",
      "text/plain": [
       "<Figure size 432x288 with 1 Axes>"
      ]
     },
     "metadata": {
      "needs_background": "light"
     },
     "output_type": "display_data"
    }
   ],
   "source": [
    "# distribution for all right offsets and 1 row DOWN\n",
    "import matplotlib.pyplot as plt\n",
    "pd.DataFrame(lst).plot(kind='bar')\n",
    "plt.show()"
   ]
  }
 ],
 "metadata": {
  "kernelspec": {
   "display_name": "Python 3",
   "language": "python",
   "name": "python3"
  },
  "language_info": {
   "codemirror_mode": {
    "name": "ipython",
    "version": 3
   },
   "file_extension": ".py",
   "mimetype": "text/x-python",
   "name": "python",
   "nbconvert_exporter": "python",
   "pygments_lexer": "ipython3",
   "version": "3.7.3"
  }
 },
 "nbformat": 4,
 "nbformat_minor": 2
}
