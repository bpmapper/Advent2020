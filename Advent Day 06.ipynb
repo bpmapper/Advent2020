{
 "cells": [
  {
   "cell_type": "markdown",
   "metadata": {},
   "source": [
    "# Day 06"
   ]
  },
  {
   "cell_type": "code",
   "execution_count": 1,
   "metadata": {},
   "outputs": [
    {
     "data": {
      "text/html": [
       "<div>\n",
       "<style scoped>\n",
       "    .dataframe tbody tr th:only-of-type {\n",
       "        vertical-align: middle;\n",
       "    }\n",
       "\n",
       "    .dataframe tbody tr th {\n",
       "        vertical-align: top;\n",
       "    }\n",
       "\n",
       "    .dataframe thead th {\n",
       "        text-align: right;\n",
       "    }\n",
       "</style>\n",
       "<table border=\"1\" class=\"dataframe\">\n",
       "  <thead>\n",
       "    <tr style=\"text-align: right;\">\n",
       "      <th></th>\n",
       "      <th>Grp</th>\n",
       "      <th>Responses</th>\n",
       "    </tr>\n",
       "  </thead>\n",
       "  <tbody>\n",
       "    <tr>\n",
       "      <td>0</td>\n",
       "      <td>461</td>\n",
       "      <td>mqlxejyc</td>\n",
       "    </tr>\n",
       "    <tr>\n",
       "      <td>0</td>\n",
       "      <td>462</td>\n",
       "      <td>zasctgqmdpnfhieokl</td>\n",
       "    </tr>\n",
       "    <tr>\n",
       "      <td>0</td>\n",
       "      <td>462</td>\n",
       "      <td>gcaeiltmnpzshfkd</td>\n",
       "    </tr>\n",
       "    <tr>\n",
       "      <td>0</td>\n",
       "      <td>462</td>\n",
       "      <td>ghltscmpfadkienz</td>\n",
       "    </tr>\n",
       "    <tr>\n",
       "      <td>0</td>\n",
       "      <td>462</td>\n",
       "      <td>nsdemfhgpzklctia</td>\n",
       "    </tr>\n",
       "  </tbody>\n",
       "</table>\n",
       "</div>"
      ],
      "text/plain": [
       "   Grp           Responses\n",
       "0  461            mqlxejyc\n",
       "0  462  zasctgqmdpnfhieokl\n",
       "0  462    gcaeiltmnpzshfkd\n",
       "0  462    ghltscmpfadkienz\n",
       "0  462    nsdemfhgpzklctia"
      ]
     },
     "execution_count": 1,
     "metadata": {},
     "output_type": "execute_result"
    }
   ],
   "source": [
    "# read in responses with counter that increments 1 after each blank line\n",
    "import pandas as pd\n",
    "df=pd.DataFrame()\n",
    "res=[]\n",
    "grp=1\n",
    "with open('day6.txt','r') as f:\n",
    "    for row in f:\n",
    "        #print(grp,row)\n",
    "        if row=='\\n':\n",
    "            grp+=1\n",
    "        else:\n",
    "            df=df.append(pd.DataFrame([[grp,row.replace('\\n','')]]))   \n",
    "df.columns=['Grp','Responses']\n",
    "df.tail()\n",
    "        "
   ]
  },
  {
   "cell_type": "code",
   "execution_count": 2,
   "metadata": {},
   "outputs": [
    {
     "data": {
      "text/html": [
       "<div>\n",
       "<style scoped>\n",
       "    .dataframe tbody tr th:only-of-type {\n",
       "        vertical-align: middle;\n",
       "    }\n",
       "\n",
       "    .dataframe tbody tr th {\n",
       "        vertical-align: top;\n",
       "    }\n",
       "\n",
       "    .dataframe thead th {\n",
       "        text-align: right;\n",
       "    }\n",
       "</style>\n",
       "<table border=\"1\" class=\"dataframe\">\n",
       "  <thead>\n",
       "    <tr style=\"text-align: right;\">\n",
       "      <th></th>\n",
       "      <th>Grp</th>\n",
       "      <th>Responses</th>\n",
       "      <th>lenset</th>\n",
       "    </tr>\n",
       "  </thead>\n",
       "  <tbody>\n",
       "    <tr>\n",
       "      <td>457</td>\n",
       "      <td>458</td>\n",
       "      <td>{m, w, a, x, h, k, s, c, z, b, r, l, y, g}</td>\n",
       "      <td>14</td>\n",
       "    </tr>\n",
       "    <tr>\n",
       "      <td>458</td>\n",
       "      <td>459</td>\n",
       "      <td>{e, q, w, o, h, i, s, v, b, z, r, n, y, f, g}</td>\n",
       "      <td>15</td>\n",
       "    </tr>\n",
       "    <tr>\n",
       "      <td>459</td>\n",
       "      <td>460</td>\n",
       "      <td>{b, l, m, r}</td>\n",
       "      <td>4</td>\n",
       "    </tr>\n",
       "    <tr>\n",
       "      <td>460</td>\n",
       "      <td>461</td>\n",
       "      <td>{q, e, m, x, k, j, r, n, c, y, l}</td>\n",
       "      <td>11</td>\n",
       "    </tr>\n",
       "    <tr>\n",
       "      <td>461</td>\n",
       "      <td>462</td>\n",
       "      <td>{q, e, m, a, t, o, d, h, i, s, k, l, z, p, n, ...</td>\n",
       "      <td>18</td>\n",
       "    </tr>\n",
       "  </tbody>\n",
       "</table>\n",
       "</div>"
      ],
      "text/plain": [
       "     Grp                                          Responses  lenset\n",
       "457  458         {m, w, a, x, h, k, s, c, z, b, r, l, y, g}      14\n",
       "458  459      {e, q, w, o, h, i, s, v, b, z, r, n, y, f, g}      15\n",
       "459  460                                       {b, l, m, r}       4\n",
       "460  461                  {q, e, m, x, k, j, r, n, c, y, l}      11\n",
       "461  462  {q, e, m, a, t, o, d, h, i, s, k, l, z, p, n, ...      18"
      ]
     },
     "execution_count": 2,
     "metadata": {},
     "output_type": "execute_result"
    }
   ],
   "source": [
    "# group on group number, concatenate and obtain unique set of responses \n",
    "dfCom=pd.DataFrame(df.groupby('Grp').Responses.apply(sum).apply(set)).reset_index()\n",
    "dfCom['lenset']=dfCom.Responses.apply(len)\n",
    "dfCom.tail()"
   ]
  },
  {
   "cell_type": "code",
   "execution_count": 3,
   "metadata": {},
   "outputs": [
    {
     "data": {
      "text/plain": [
       "6457"
      ]
     },
     "execution_count": 3,
     "metadata": {},
     "output_type": "execute_result"
    }
   ],
   "source": [
    "# Part 1\n",
    "dfCom.lenset.sum()"
   ]
  },
  {
   "cell_type": "code",
   "execution_count": 4,
   "metadata": {},
   "outputs": [
    {
     "data": {
      "text/html": [
       "<div>\n",
       "<style scoped>\n",
       "    .dataframe tbody tr th:only-of-type {\n",
       "        vertical-align: middle;\n",
       "    }\n",
       "\n",
       "    .dataframe tbody tr th {\n",
       "        vertical-align: top;\n",
       "    }\n",
       "\n",
       "    .dataframe thead th {\n",
       "        text-align: right;\n",
       "    }\n",
       "</style>\n",
       "<table border=\"1\" class=\"dataframe\">\n",
       "  <thead>\n",
       "    <tr style=\"text-align: right;\">\n",
       "      <th></th>\n",
       "      <th>Grp</th>\n",
       "      <th>Responses</th>\n",
       "    </tr>\n",
       "  </thead>\n",
       "  <tbody>\n",
       "    <tr>\n",
       "      <td>457</td>\n",
       "      <td>458</td>\n",
       "      <td>[ylkrmhsw, gmslrka, cmrzbksx]</td>\n",
       "    </tr>\n",
       "    <tr>\n",
       "      <td>458</td>\n",
       "      <td>459</td>\n",
       "      <td>[hefrbqnyswzigo, rhvobqiwys]</td>\n",
       "    </tr>\n",
       "    <tr>\n",
       "      <td>459</td>\n",
       "      <td>460</td>\n",
       "      <td>[rb, lrb, mrb]</td>\n",
       "    </tr>\n",
       "    <tr>\n",
       "      <td>460</td>\n",
       "      <td>461</td>\n",
       "      <td>[kcrnqy, mqlxejyc]</td>\n",
       "    </tr>\n",
       "    <tr>\n",
       "      <td>461</td>\n",
       "      <td>462</td>\n",
       "      <td>[zasctgqmdpnfhieokl, gcaeiltmnpzshfkd, ghltscm...</td>\n",
       "    </tr>\n",
       "  </tbody>\n",
       "</table>\n",
       "</div>"
      ],
      "text/plain": [
       "     Grp                                          Responses\n",
       "457  458                      [ylkrmhsw, gmslrka, cmrzbksx]\n",
       "458  459                       [hefrbqnyswzigo, rhvobqiwys]\n",
       "459  460                                     [rb, lrb, mrb]\n",
       "460  461                                 [kcrnqy, mqlxejyc]\n",
       "461  462  [zasctgqmdpnfhieokl, gcaeiltmnpzshfkd, ghltscm..."
      ]
     },
     "execution_count": 4,
     "metadata": {},
     "output_type": "execute_result"
    }
   ],
   "source": [
    "# group by Grp and make list of responses\n",
    "dfCom2=pd.DataFrame(df.groupby('Grp').Responses.apply(list)).reset_index()\n",
    "dfCom2.tail()"
   ]
  },
  {
   "cell_type": "code",
   "execution_count": 5,
   "metadata": {},
   "outputs": [],
   "source": [
    "# function to identify common elements in all lists\n",
    "def InCommon(sss):\n",
    "    res=set(sss[0])\n",
    "    for x in sss[1:]:\n",
    "        res=set(res).intersection(x)\n",
    "    return res"
   ]
  },
  {
   "cell_type": "code",
   "execution_count": 6,
   "metadata": {},
   "outputs": [
    {
     "data": {
      "text/html": [
       "<div>\n",
       "<style scoped>\n",
       "    .dataframe tbody tr th:only-of-type {\n",
       "        vertical-align: middle;\n",
       "    }\n",
       "\n",
       "    .dataframe tbody tr th {\n",
       "        vertical-align: top;\n",
       "    }\n",
       "\n",
       "    .dataframe thead th {\n",
       "        text-align: right;\n",
       "    }\n",
       "</style>\n",
       "<table border=\"1\" class=\"dataframe\">\n",
       "  <thead>\n",
       "    <tr style=\"text-align: right;\">\n",
       "      <th></th>\n",
       "      <th>Grp</th>\n",
       "      <th>Responses</th>\n",
       "      <th>InCommon</th>\n",
       "      <th>len2</th>\n",
       "    </tr>\n",
       "  </thead>\n",
       "  <tbody>\n",
       "    <tr>\n",
       "      <td>0</td>\n",
       "      <td>1</td>\n",
       "      <td>[clvxybjp, kripatlzy]</td>\n",
       "      <td>{l, y, p}</td>\n",
       "      <td>3</td>\n",
       "    </tr>\n",
       "    <tr>\n",
       "      <td>1</td>\n",
       "      <td>2</td>\n",
       "      <td>[yrn, labirzd, noypr]</td>\n",
       "      <td>{r}</td>\n",
       "      <td>1</td>\n",
       "    </tr>\n",
       "    <tr>\n",
       "      <td>2</td>\n",
       "      <td>3</td>\n",
       "      <td>[ioluwteykdrcavfgqh, ioevhcfnwjduqyagkr, syjgr...</td>\n",
       "      <td>{u, q, e, a, w, o, r, h, i, k, v, g, c, y, f, d}</td>\n",
       "      <td>16</td>\n",
       "    </tr>\n",
       "    <tr>\n",
       "      <td>3</td>\n",
       "      <td>4</td>\n",
       "      <td>[xjgrzncsiqhm, ijzmquhasgxrcn, rqczuimnxgh, xo...</td>\n",
       "      <td>{q, m, x, h, i, z, r, n, c, g}</td>\n",
       "      <td>10</td>\n",
       "    </tr>\n",
       "    <tr>\n",
       "      <td>4</td>\n",
       "      <td>5</td>\n",
       "      <td>[ai, qjaw, agez]</td>\n",
       "      <td>{a}</td>\n",
       "      <td>1</td>\n",
       "    </tr>\n",
       "    <tr>\n",
       "      <td>...</td>\n",
       "      <td>...</td>\n",
       "      <td>...</td>\n",
       "      <td>...</td>\n",
       "      <td>...</td>\n",
       "    </tr>\n",
       "    <tr>\n",
       "      <td>457</td>\n",
       "      <td>458</td>\n",
       "      <td>[ylkrmhsw, gmslrka, cmrzbksx]</td>\n",
       "      <td>{s, k, m, r}</td>\n",
       "      <td>4</td>\n",
       "    </tr>\n",
       "    <tr>\n",
       "      <td>458</td>\n",
       "      <td>459</td>\n",
       "      <td>[hefrbqnyswzigo, rhvobqiwys]</td>\n",
       "      <td>{q, w, o, h, i, s, b, r, y}</td>\n",
       "      <td>9</td>\n",
       "    </tr>\n",
       "    <tr>\n",
       "      <td>459</td>\n",
       "      <td>460</td>\n",
       "      <td>[rb, lrb, mrb]</td>\n",
       "      <td>{b, r}</td>\n",
       "      <td>2</td>\n",
       "    </tr>\n",
       "    <tr>\n",
       "      <td>460</td>\n",
       "      <td>461</td>\n",
       "      <td>[kcrnqy, mqlxejyc]</td>\n",
       "      <td>{q, c, y}</td>\n",
       "      <td>3</td>\n",
       "    </tr>\n",
       "    <tr>\n",
       "      <td>461</td>\n",
       "      <td>462</td>\n",
       "      <td>[zasctgqmdpnfhieokl, gcaeiltmnpzshfkd, ghltscm...</td>\n",
       "      <td>{e, m, a, t, h, i, s, k, c, z, p, g, n, l, f, d}</td>\n",
       "      <td>16</td>\n",
       "    </tr>\n",
       "  </tbody>\n",
       "</table>\n",
       "<p>462 rows × 4 columns</p>\n",
       "</div>"
      ],
      "text/plain": [
       "     Grp                                          Responses  \\\n",
       "0      1                              [clvxybjp, kripatlzy]   \n",
       "1      2                              [yrn, labirzd, noypr]   \n",
       "2      3  [ioluwteykdrcavfgqh, ioevhcfnwjduqyagkr, syjgr...   \n",
       "3      4  [xjgrzncsiqhm, ijzmquhasgxrcn, rqczuimnxgh, xo...   \n",
       "4      5                                   [ai, qjaw, agez]   \n",
       "..   ...                                                ...   \n",
       "457  458                      [ylkrmhsw, gmslrka, cmrzbksx]   \n",
       "458  459                       [hefrbqnyswzigo, rhvobqiwys]   \n",
       "459  460                                     [rb, lrb, mrb]   \n",
       "460  461                                 [kcrnqy, mqlxejyc]   \n",
       "461  462  [zasctgqmdpnfhieokl, gcaeiltmnpzshfkd, ghltscm...   \n",
       "\n",
       "                                             InCommon  len2  \n",
       "0                                           {l, y, p}     3  \n",
       "1                                                 {r}     1  \n",
       "2    {u, q, e, a, w, o, r, h, i, k, v, g, c, y, f, d}    16  \n",
       "3                      {q, m, x, h, i, z, r, n, c, g}    10  \n",
       "4                                                 {a}     1  \n",
       "..                                                ...   ...  \n",
       "457                                      {s, k, m, r}     4  \n",
       "458                       {q, w, o, h, i, s, b, r, y}     9  \n",
       "459                                            {b, r}     2  \n",
       "460                                         {q, c, y}     3  \n",
       "461  {e, m, a, t, h, i, s, k, c, z, p, g, n, l, f, d}    16  \n",
       "\n",
       "[462 rows x 4 columns]"
      ]
     },
     "execution_count": 6,
     "metadata": {},
     "output_type": "execute_result"
    }
   ],
   "source": [
    "# identify common elements and length of sets\n",
    "dfCom2['InCommon']=dfCom2.Responses.apply(InCommon)\n",
    "dfCom2['len2']=dfCom2.InCommon.apply(len)\n",
    "dfCom2"
   ]
  },
  {
   "cell_type": "code",
   "execution_count": 7,
   "metadata": {},
   "outputs": [
    {
     "data": {
      "text/plain": [
       "3260"
      ]
     },
     "execution_count": 7,
     "metadata": {},
     "output_type": "execute_result"
    }
   ],
   "source": [
    "# Part 2\n",
    "dfCom2.len2.sum()"
   ]
  }
 ],
 "metadata": {
  "kernelspec": {
   "display_name": "Python 3",
   "language": "python",
   "name": "python3"
  },
  "language_info": {
   "codemirror_mode": {
    "name": "ipython",
    "version": 3
   },
   "file_extension": ".py",
   "mimetype": "text/x-python",
   "name": "python",
   "nbconvert_exporter": "python",
   "pygments_lexer": "ipython3",
   "version": "3.7.3"
  }
 },
 "nbformat": 4,
 "nbformat_minor": 2
}
