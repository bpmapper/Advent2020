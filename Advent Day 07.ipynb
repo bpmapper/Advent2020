{
 "cells": [
  {
   "cell_type": "markdown",
   "metadata": {},
   "source": [
    "# Day 07 "
   ]
  },
  {
   "cell_type": "code",
   "execution_count": 1,
   "metadata": {},
   "outputs": [
    {
     "data": {
      "text/html": [
       "<div>\n",
       "<style scoped>\n",
       "    .dataframe tbody tr th:only-of-type {\n",
       "        vertical-align: middle;\n",
       "    }\n",
       "\n",
       "    .dataframe tbody tr th {\n",
       "        vertical-align: top;\n",
       "    }\n",
       "\n",
       "    .dataframe thead th {\n",
       "        text-align: right;\n",
       "    }\n",
       "</style>\n",
       "<table border=\"1\" class=\"dataframe\">\n",
       "  <thead>\n",
       "    <tr style=\"text-align: right;\">\n",
       "      <th></th>\n",
       "      <th>row</th>\n",
       "      <th>txt</th>\n",
       "      <th>clean</th>\n",
       "      <th>bag</th>\n",
       "      <th>parts</th>\n",
       "    </tr>\n",
       "  </thead>\n",
       "  <tbody>\n",
       "    <tr>\n",
       "      <td>589</td>\n",
       "      <td>589</td>\n",
       "      <td>pale plum bags contain 4 drab silver bags.</td>\n",
       "      <td>pale plum |4 drab silver .</td>\n",
       "      <td>pale plum</td>\n",
       "      <td>4 drab silver</td>\n",
       "    </tr>\n",
       "    <tr>\n",
       "      <td>590</td>\n",
       "      <td>590</td>\n",
       "      <td>faded maroon bags contain 3 posh fuchsia bags,...</td>\n",
       "      <td>faded maroon |3 posh fuchsia , 5 vibrant teal ...</td>\n",
       "      <td>faded maroon</td>\n",
       "      <td>3 posh fuchsia , 5 vibrant teal , 1 dull violet</td>\n",
       "    </tr>\n",
       "    <tr>\n",
       "      <td>591</td>\n",
       "      <td>591</td>\n",
       "      <td>dark yellow bags contain 3 faded black bags, 2...</td>\n",
       "      <td>dark yellow |3 faded black , 2 dark salmon , 2...</td>\n",
       "      <td>dark yellow</td>\n",
       "      <td>3 faded black , 2 dark salmon , 2 vibrant lave...</td>\n",
       "    </tr>\n",
       "    <tr>\n",
       "      <td>592</td>\n",
       "      <td>592</td>\n",
       "      <td>bright purple bags contain 5 light lime bags, ...</td>\n",
       "      <td>bright purple |5 light lime , 1 pale gray , 1 ...</td>\n",
       "      <td>bright purple</td>\n",
       "      <td>5 light lime , 1 pale gray , 1 faded turquoise...</td>\n",
       "    </tr>\n",
       "    <tr>\n",
       "      <td>593</td>\n",
       "      <td>593</td>\n",
       "      <td>vibrant maroon bags contain 5 vibrant lavender...</td>\n",
       "      <td>vibrant maroon |5 vibrant lavender , 3 wavy bl...</td>\n",
       "      <td>vibrant maroon</td>\n",
       "      <td>5 vibrant lavender , 3 wavy black , 2 striped ...</td>\n",
       "    </tr>\n",
       "  </tbody>\n",
       "</table>\n",
       "</div>"
      ],
      "text/plain": [
       "     row                                                txt  \\\n",
       "589  589         pale plum bags contain 4 drab silver bags.   \n",
       "590  590  faded maroon bags contain 3 posh fuchsia bags,...   \n",
       "591  591  dark yellow bags contain 3 faded black bags, 2...   \n",
       "592  592  bright purple bags contain 5 light lime bags, ...   \n",
       "593  593  vibrant maroon bags contain 5 vibrant lavender...   \n",
       "\n",
       "                                                 clean             bag  \\\n",
       "589                         pale plum |4 drab silver .       pale plum   \n",
       "590  faded maroon |3 posh fuchsia , 5 vibrant teal ...    faded maroon   \n",
       "591  dark yellow |3 faded black , 2 dark salmon , 2...     dark yellow   \n",
       "592  bright purple |5 light lime , 1 pale gray , 1 ...   bright purple   \n",
       "593  vibrant maroon |5 vibrant lavender , 3 wavy bl...  vibrant maroon   \n",
       "\n",
       "                                                 parts  \n",
       "589                                      4 drab silver  \n",
       "590    3 posh fuchsia , 5 vibrant teal , 1 dull violet  \n",
       "591  3 faded black , 2 dark salmon , 2 vibrant lave...  \n",
       "592  5 light lime , 1 pale gray , 1 faded turquoise...  \n",
       "593  5 vibrant lavender , 3 wavy black , 2 striped ...  "
      ]
     },
     "execution_count": 1,
     "metadata": {},
     "output_type": "execute_result"
    }
   ],
   "source": [
    "# read in data and split between bag and contents\n",
    "import pandas as pd\n",
    "df=pd.read_csv('day7.txt', header=None, delimiter='|').reset_index()\n",
    "df.columns=['row','txt']\n",
    "df['clean']=df.txt.apply(lambda x: x.replace(\"bags\",\"\").replace(\"bag\",\"\").replace(\" contain \",\"|\"))\n",
    "df[['bag','parts']]=df.clean.str.split(\"|\",expand=True)\n",
    "df.bag=df.bag.str.strip()\n",
    "df.parts=df.parts.str.replace(\".\",\"\").str.strip()\n",
    "df.tail()"
   ]
  },
  {
   "cell_type": "code",
   "execution_count": 2,
   "metadata": {},
   "outputs": [
    {
     "name": "stdout",
     "output_type": "stream",
     "text": [
      "['dull fuchsia', 'clear indigo', 'mirrored lavender', 'wavy yellow', 'muted aqua', 'light tomato', 'striped maroon', 'dotted beige', 'dim chartreuse']\n"
     ]
    }
   ],
   "source": [
    "# list parts that can be in shiny gold bag\n",
    "lst=df[df.parts.str.contains(\"shiny gold\")]['bag'].to_list()\n",
    "print(lst)"
   ]
  },
  {
   "cell_type": "code",
   "execution_count": 3,
   "metadata": {},
   "outputs": [
    {
     "name": "stdout",
     "output_type": "stream",
     "text": [
      "9 29\n",
      "37 81\n",
      "89 149\n",
      "156 211\n",
      "218 249\n",
      "256 264\n",
      "271 267\n",
      "274 267\n",
      "274 267\n",
      "274 267\n",
      "['bright red', 'clear red', 'shiny brown', 'bright fuchsia', 'shiny silver', 'posh white', 'mirrored gray', 'drab brown', 'pale tan', 'wavy yellow', 'dim gray', 'muted gold', 'dotted teal', 'dotted purple', 'clear gray', 'dim olive', 'plaid white', 'vibrant yellow', 'shiny yellow', 'pale salmon', 'bright cyan', 'light lime', 'dark lavender', 'striped orange', 'mirrored salmon', 'dark beige', 'posh chartreuse', 'bright purple', 'plaid lavender', 'shiny fuchsia', 'pale green', 'light cyan', 'dotted beige', 'muted brown', 'dull cyan', 'bright aqua', 'light red', 'dull chartreuse', 'muted salmon', 'posh purple', 'vibrant tomato', 'pale olive', 'muted lime', 'wavy maroon', 'drab indigo', 'mirrored brown', 'clear silver', 'pale black', 'muted magenta', 'drab teal', 'posh lavender', 'dull lime', 'wavy violet', 'dotted aqua', 'wavy blue', 'vibrant cyan', 'wavy crimson', 'plaid tan', 'drab chartreuse', 'light white', 'clear indigo', 'light turquoise', 'mirrored purple', 'striped maroon', 'striped white', 'wavy silver', 'muted plum', 'mirrored white', 'plaid fuchsia', 'muted tomato', 'vibrant coral', 'drab gray', 'striped blue', 'plaid crimson', 'vibrant maroon', 'muted turquoise', 'wavy gold', 'plaid purple', 'drab tomato', 'wavy turquoise', 'light bronze', 'faded tan', 'dotted red', 'vibrant tan', 'dim maroon', 'faded olive', 'dull lavender', 'muted indigo', 'posh cyan', 'vibrant purple', 'drab gold', 'drab red', 'plaid coral', 'vibrant salmon', 'pale aqua', 'wavy gray', 'clear chartreuse', 'wavy brown', 'light beige', 'dull turquoise', 'striped teal', 'light maroon', 'striped yellow', 'muted bronze', 'striped lavender', 'wavy teal', 'wavy white', 'muted green', 'striped gray', 'striped tan', 'pale brown', 'light lavender', 'posh crimson', 'dull salmon', 'dark fuchsia', 'bright maroon', 'pale silver', 'posh yellow', 'dark lime', 'bright olive', 'striped black', 'vibrant fuchsia', 'plaid plum', 'dull coral', 'plaid beige', 'dull brown', 'vibrant violet', 'clear lime', 'mirrored cyan', 'dotted turquoise', 'bright turquoise', 'dotted fuchsia', 'mirrored magenta', 'drab green', 'clear magenta', 'striped lime', 'posh maroon', 'striped green', 'faded cyan', 'muted crimson', 'shiny aqua', 'plaid magenta', 'mirrored lavender', 'vibrant aqua', 'plaid blue', 'drab cyan', 'dull bronze', 'light tomato', 'dull gold', 'clear white', 'bright chartreuse', 'shiny salmon', 'light coral', 'mirrored turquoise', 'clear cyan', 'dim green', 'shiny tan', 'shiny gray', 'posh olive', 'pale gold', 'wavy tan', 'light fuchsia', 'plaid orange', 'faded white', 'dull fuchsia', 'dotted orange', 'drab yellow', 'muted cyan', 'clear olive', 'dotted gold', 'mirrored blue', 'striped tomato', 'wavy bronze', 'striped salmon', 'wavy magenta', 'posh turquoise', 'plaid salmon', 'dim violet', 'dotted coral', 'drab orange', 'bright orange', 'drab bronze', 'bright tomato', 'striped violet', 'vibrant chartreuse', 'faded green', 'mirrored gold', 'clear lavender', 'posh beige', 'dim tomato', 'wavy chartreuse', 'bright tan', 'dim red', 'plaid yellow', 'dim purple', 'dull olive', 'muted aqua', 'bright gold', 'posh gray', 'wavy orange', 'dark bronze', 'faded purple', 'mirrored maroon', 'bright violet', 'clear brown', 'posh brown', 'pale magenta', 'light green', 'posh silver', 'striped aqua', 'dull maroon', 'bright indigo', 'dotted black', 'dull beige', 'dim tan', 'plaid red', 'clear gold', 'muted black', 'dim chartreuse', 'plaid black', 'dull violet', 'faded indigo', 'plaid turquoise', 'dark chartreuse', 'drab violet', 'bright magenta', 'vibrant beige', 'dotted maroon', 'light indigo', 'pale blue', 'dotted magenta', 'clear plum', 'wavy cyan', 'mirrored beige', 'mirrored red', 'dotted green', 'pale cyan', 'dotted silver', 'light magenta', 'dark magenta', 'dark black', 'faded red', 'faded yellow', 'muted blue', 'dim teal', 'striped olive', 'clear yellow', 'clear green', 'shiny black', 'posh orange', 'striped chartreuse', 'light teal', 'clear salmon', 'clear teal', 'dull magenta', 'muted olive', 'drab beige', 'clear tomato', 'pale lavender', 'dim gold', 'vibrant magenta', 'posh bronze', 'plaid cyan', 'muted lavender', 'plaid chartreuse', 'shiny lavender', 'dull blue', 'faded maroon', 'drab coral', 'muted beige', 'dim lime', 'clear beige', 'dotted white', 'striped cyan']\n"
     ]
    }
   ],
   "source": [
    "# for each part on the list, look to see if they are also bags and capture additional parts adding them to same unique list - repeat\n",
    "# answer when list does not lengthen\n",
    "\n",
    "# function - make list of colours in colourlist that appear in parts string\n",
    "def HasColour(sss,colourlist):\n",
    "    res=[]\n",
    "    for c in colourlist:\n",
    "        if c in sss:\n",
    "            res.append(c)\n",
    "    return res\n",
    "\n",
    "for f in range(10):\n",
    "    df['loop']=df.parts.apply(HasColour,colourlist=lst)\n",
    "    newlist=df[df.loop.str.len()>0]['bag'].to_list()\n",
    "    print(len(lst),len(newlist))\n",
    "    lst=list(set(lst+newlist))\n",
    "\n",
    "print(lst)"
   ]
  },
  {
   "cell_type": "markdown",
   "metadata": {},
   "source": [
    "# Part 2"
   ]
  },
  {
   "cell_type": "code",
   "execution_count": 5,
   "metadata": {},
   "outputs": [],
   "source": [
    "# for each bag split the parts into invidual repeated bags i.e. 2a, 3b = aabbb "
   ]
  },
  {
   "cell_type": "code",
   "execution_count": 6,
   "metadata": {},
   "outputs": [
    {
     "data": {
      "text/html": [
       "<div>\n",
       "<style scoped>\n",
       "    .dataframe tbody tr th:only-of-type {\n",
       "        vertical-align: middle;\n",
       "    }\n",
       "\n",
       "    .dataframe tbody tr th {\n",
       "        vertical-align: top;\n",
       "    }\n",
       "\n",
       "    .dataframe thead th {\n",
       "        text-align: right;\n",
       "    }\n",
       "</style>\n",
       "<table border=\"1\" class=\"dataframe\">\n",
       "  <thead>\n",
       "    <tr style=\"text-align: right;\">\n",
       "      <th></th>\n",
       "      <th>bag</th>\n",
       "      <th>parts</th>\n",
       "      <th>contents</th>\n",
       "    </tr>\n",
       "  </thead>\n",
       "  <tbody>\n",
       "    <tr>\n",
       "      <td>0</td>\n",
       "      <td>wavy bronze</td>\n",
       "      <td>5 striped gold , 5 light tomato</td>\n",
       "      <td>[striped gold, striped gold, striped gold, str...</td>\n",
       "    </tr>\n",
       "    <tr>\n",
       "      <td>1</td>\n",
       "      <td>drab indigo</td>\n",
       "      <td>4 pale bronze , 2 mirrored lavender</td>\n",
       "      <td>[pale bronze, pale bronze, pale bronze, pale b...</td>\n",
       "    </tr>\n",
       "    <tr>\n",
       "      <td>2</td>\n",
       "      <td>pale olive</td>\n",
       "      <td>3 faded bronze , 5 wavy orange , 3 clear black...</td>\n",
       "      <td>[faded bronze, faded bronze, faded bronze, wav...</td>\n",
       "    </tr>\n",
       "    <tr>\n",
       "      <td>3</td>\n",
       "      <td>faded white</td>\n",
       "      <td>5 vibrant violet , 4 light teal</td>\n",
       "      <td>[vibrant violet, vibrant violet, vibrant viole...</td>\n",
       "    </tr>\n",
       "    <tr>\n",
       "      <td>4</td>\n",
       "      <td>mirrored magenta</td>\n",
       "      <td>2 muted cyan , 3 vibrant crimson</td>\n",
       "      <td>[muted cyan, muted cyan, vibrant crimson, vibr...</td>\n",
       "    </tr>\n",
       "    <tr>\n",
       "      <td>...</td>\n",
       "      <td>...</td>\n",
       "      <td>...</td>\n",
       "      <td>...</td>\n",
       "    </tr>\n",
       "    <tr>\n",
       "      <td>589</td>\n",
       "      <td>pale plum</td>\n",
       "      <td>4 drab silver</td>\n",
       "      <td>[drab silver, drab silver, drab silver, drab s...</td>\n",
       "    </tr>\n",
       "    <tr>\n",
       "      <td>590</td>\n",
       "      <td>faded maroon</td>\n",
       "      <td>3 posh fuchsia , 5 vibrant teal , 1 dull violet</td>\n",
       "      <td>[posh fuchsia, posh fuchsia, posh fuchsia, vib...</td>\n",
       "    </tr>\n",
       "    <tr>\n",
       "      <td>591</td>\n",
       "      <td>dark yellow</td>\n",
       "      <td>3 faded black , 2 dark salmon , 2 vibrant lave...</td>\n",
       "      <td>[faded black, faded black, faded black, dark s...</td>\n",
       "    </tr>\n",
       "    <tr>\n",
       "      <td>592</td>\n",
       "      <td>bright purple</td>\n",
       "      <td>5 light lime , 1 pale gray , 1 faded turquoise...</td>\n",
       "      <td>[light lime, light lime, light lime, light lim...</td>\n",
       "    </tr>\n",
       "    <tr>\n",
       "      <td>593</td>\n",
       "      <td>vibrant maroon</td>\n",
       "      <td>5 vibrant lavender , 3 wavy black , 2 striped ...</td>\n",
       "      <td>[vibrant lavender, vibrant lavender, vibrant l...</td>\n",
       "    </tr>\n",
       "  </tbody>\n",
       "</table>\n",
       "<p>594 rows × 3 columns</p>\n",
       "</div>"
      ],
      "text/plain": [
       "                  bag                                              parts  \\\n",
       "0         wavy bronze                    5 striped gold , 5 light tomato   \n",
       "1         drab indigo                4 pale bronze , 2 mirrored lavender   \n",
       "2          pale olive  3 faded bronze , 5 wavy orange , 3 clear black...   \n",
       "3         faded white                    5 vibrant violet , 4 light teal   \n",
       "4    mirrored magenta                   2 muted cyan , 3 vibrant crimson   \n",
       "..                ...                                                ...   \n",
       "589         pale plum                                      4 drab silver   \n",
       "590      faded maroon    3 posh fuchsia , 5 vibrant teal , 1 dull violet   \n",
       "591       dark yellow  3 faded black , 2 dark salmon , 2 vibrant lave...   \n",
       "592     bright purple  5 light lime , 1 pale gray , 1 faded turquoise...   \n",
       "593    vibrant maroon  5 vibrant lavender , 3 wavy black , 2 striped ...   \n",
       "\n",
       "                                              contents  \n",
       "0    [striped gold, striped gold, striped gold, str...  \n",
       "1    [pale bronze, pale bronze, pale bronze, pale b...  \n",
       "2    [faded bronze, faded bronze, faded bronze, wav...  \n",
       "3    [vibrant violet, vibrant violet, vibrant viole...  \n",
       "4    [muted cyan, muted cyan, vibrant crimson, vibr...  \n",
       "..                                                 ...  \n",
       "589  [drab silver, drab silver, drab silver, drab s...  \n",
       "590  [posh fuchsia, posh fuchsia, posh fuchsia, vib...  \n",
       "591  [faded black, faded black, faded black, dark s...  \n",
       "592  [light lime, light lime, light lime, light lim...  \n",
       "593  [vibrant lavender, vibrant lavender, vibrant l...  \n",
       "\n",
       "[594 rows x 3 columns]"
      ]
     },
     "execution_count": 6,
     "metadata": {},
     "output_type": "execute_result"
    }
   ],
   "source": [
    "def makecount(sss):\n",
    "    res=[]\n",
    "    for item in list(sss.split(',')):\n",
    "        if item != 'no other':\n",
    "            pos=1+item.strip().find(\" \")\n",
    "            num=int(item[:pos])\n",
    "            part=item[pos:]\n",
    "            for i in range(num):\n",
    "                res.append(part.strip())\n",
    "    return res\n",
    "\n",
    "df['contents']=df.parts.apply(makecount)\n",
    "df[['bag','parts','contents']]\n"
   ]
  },
  {
   "cell_type": "code",
   "execution_count": 9,
   "metadata": {},
   "outputs": [
    {
     "name": "stdout",
     "output_type": "stream",
     "text": [
      "35 39\n",
      "\n",
      "99 138\n",
      "\n",
      "606 744\n",
      "\n",
      "2286 3030\n",
      "\n",
      "7500 10530\n",
      "\n",
      "32700 43230\n",
      "\n",
      "85500 128730\n",
      "\n",
      "30000 158730\n",
      "\n",
      "0 158730\n",
      "\n",
      "0 158730\n",
      "\n"
     ]
    }
   ],
   "source": [
    "# get contents of shiny bag and increment total\n",
    "lst=df[df.bag=='shiny gold'].contents.to_list()[0]\n",
    "tot=len(lst)\n",
    "# go through each item in bags and add the contents to a new list\n",
    "for i in range(10):\n",
    "    newlst=[]\n",
    "    for item in lst:\n",
    "        newlst.append(df[df.bag==item].contents.to_list()[0])\n",
    "    # flatten make this the new input list\n",
    "    lst = [item for sublist in newlst for item in sublist]\n",
    "    tot=tot+len(lst)\n",
    "    print(len(lst), tot)\n",
    "    print()"
   ]
  },
  {
   "cell_type": "markdown",
   "metadata": {},
   "source": [
    "# Ans = 158,730"
   ]
  },
  {
   "cell_type": "code",
   "execution_count": null,
   "metadata": {},
   "outputs": [],
   "source": []
  }
 ],
 "metadata": {
  "kernelspec": {
   "display_name": "Python 3",
   "language": "python",
   "name": "python3"
  },
  "language_info": {
   "codemirror_mode": {
    "name": "ipython",
    "version": 3
   },
   "file_extension": ".py",
   "mimetype": "text/x-python",
   "name": "python",
   "nbconvert_exporter": "python",
   "pygments_lexer": "ipython3",
   "version": "3.7.3"
  }
 },
 "nbformat": 4,
 "nbformat_minor": 2
}
