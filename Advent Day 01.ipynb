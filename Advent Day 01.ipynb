{
 "cells": [
  {
   "cell_type": "markdown",
   "metadata": {},
   "source": [
    "# Day 1 - Which two numbers add to 2020?"
   ]
  },
  {
   "cell_type": "markdown",
   "metadata": {},
   "source": [
    "see https://adventofcode.com/2020/day/1"
   ]
  },
  {
   "cell_type": "code",
   "execution_count": 26,
   "metadata": {},
   "outputs": [
    {
     "name": "stdout",
     "output_type": "stream",
     "text": [
      "861 1159 sum 2020 multiplied 997899\n",
      "1159 861 sum 2020 multiplied 997899\n"
     ]
    }
   ],
   "source": [
    "# brute force\n",
    "# read in data as dataframe\n",
    "# convert to list\n",
    "# set up a generator to loop through all combinations of numbers and output result\n",
    "import pandas as pd\n",
    "df=pd.read_csv('day1.txt',header=None)\n",
    "df.columns=['nums']\n",
    "lst=df.nums\n",
    "lstlen=len(lst)-1\n",
    "for x, y in ((x,y) for x in range(0,lstlen) for y in range(0,lstlen) if lst[x]+lst[y]==2020):\n",
    "    print (lst[x], lst[y], \"sum\", lst[x]+lst[y],\"multiplied\",lst[x]*lst[y])"
   ]
  },
  {
   "cell_type": "code",
   "execution_count": 24,
   "metadata": {},
   "outputs": [
    {
     "data": {
      "text/html": [
       "<div>\n",
       "<style scoped>\n",
       "    .dataframe tbody tr th:only-of-type {\n",
       "        vertical-align: middle;\n",
       "    }\n",
       "\n",
       "    .dataframe tbody tr th {\n",
       "        vertical-align: top;\n",
       "    }\n",
       "\n",
       "    .dataframe thead th {\n",
       "        text-align: right;\n",
       "    }\n",
       "</style>\n",
       "<table border=\"1\" class=\"dataframe\">\n",
       "  <thead>\n",
       "    <tr style=\"text-align: right;\">\n",
       "      <th></th>\n",
       "      <th>nums_x</th>\n",
       "      <th>diff_x</th>\n",
       "      <th>nums_y</th>\n",
       "      <th>diff_y</th>\n",
       "    </tr>\n",
       "  </thead>\n",
       "  <tbody>\n",
       "    <tr>\n",
       "      <td>0</td>\n",
       "      <td>861</td>\n",
       "      <td>1159</td>\n",
       "      <td>1159</td>\n",
       "      <td>861</td>\n",
       "    </tr>\n",
       "    <tr>\n",
       "      <td>1</td>\n",
       "      <td>1159</td>\n",
       "      <td>861</td>\n",
       "      <td>861</td>\n",
       "      <td>1159</td>\n",
       "    </tr>\n",
       "  </tbody>\n",
       "</table>\n",
       "</div>"
      ],
      "text/plain": [
       "   nums_x  diff_x  nums_y  diff_y\n",
       "0     861    1159    1159     861\n",
       "1    1159     861     861    1159"
      ]
     },
     "execution_count": 24,
     "metadata": {},
     "output_type": "execute_result"
    }
   ],
   "source": [
    "# better method\n",
    "# create new column in dataframe that is the difference between the number and 2020.\n",
    "# If this number exists in the original list then those are the two that sum to 2020.\n",
    "# Join table with itself using new column joining on the existing column\n",
    "# Same answer\n",
    "df['diff']=2020-df.nums\n",
    "df.merge(df, left_on='diff',right_on='nums')"
   ]
  },
  {
   "cell_type": "markdown",
   "metadata": {},
   "source": [
    "# Part 2 - Which three numbers add to 2020?"
   ]
  },
  {
   "cell_type": "code",
   "execution_count": 27,
   "metadata": {},
   "outputs": [
    {
     "name": "stdout",
     "output_type": "stream",
     "text": [
      "337 1406 277 sum 2020 multiplied 131248694\n",
      "337 277 1406 sum 2020 multiplied 131248694\n",
      "1406 337 277 sum 2020 multiplied 131248694\n",
      "1406 277 337 sum 2020 multiplied 131248694\n",
      "277 337 1406 sum 2020 multiplied 131248694\n",
      "277 1406 337 sum 2020 multiplied 131248694\n"
     ]
    }
   ],
   "source": [
    "# can't think of a clever way - brute force\n",
    "for x, y, z in ((x,y,z) for x in range(0,lstlen) for y in range(0,lstlen) for z in range(0,lstlen) if lst[x]+lst[y]+lst[z]==2020):\n",
    "    print (lst[x], lst[y], lst[z],\"sum\", lst[x]+lst[y]+lst[z],\"multiplied\",lst[x]*lst[y]*lst[z])"
   ]
  },
  {
   "cell_type": "code",
   "execution_count": null,
   "metadata": {},
   "outputs": [],
   "source": []
  }
 ],
 "metadata": {
  "kernelspec": {
   "display_name": "Python 3",
   "language": "python",
   "name": "python3"
  },
  "language_info": {
   "codemirror_mode": {
    "name": "ipython",
    "version": 3
   },
   "file_extension": ".py",
   "mimetype": "text/x-python",
   "name": "python",
   "nbconvert_exporter": "python",
   "pygments_lexer": "ipython3",
   "version": "3.7.3"
  }
 },
 "nbformat": 4,
 "nbformat_minor": 2
}
