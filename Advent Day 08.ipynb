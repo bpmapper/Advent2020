{
 "cells": [
  {
   "cell_type": "markdown",
   "metadata": {},
   "source": [
    "# Day 8"
   ]
  },
  {
   "cell_type": "code",
   "execution_count": 1,
   "metadata": {},
   "outputs": [
    {
     "name": "stdout",
     "output_type": "stream",
     "text": [
      "['acc +40\\n', 'acc -14\\n', 'nop +386\\n', 'jmp +262\\n', 'acc -4\\n']\n"
     ]
    }
   ],
   "source": [
    "# read instructions into a list\n",
    "with open('day8.txt','r') as f:\n",
    "    lst = f.readlines()\n",
    "    print(lst[:5])\n",
    "    "
   ]
  },
  {
   "cell_type": "code",
   "execution_count": 2,
   "metadata": {},
   "outputs": [
    {
     "data": {
      "text/plain": [
       "(642, 'jmp +1\\n')"
      ]
     },
     "execution_count": 2,
     "metadata": {},
     "output_type": "execute_result"
    }
   ],
   "source": [
    "#check length\n",
    "len(lst),lst[641]"
   ]
  },
  {
   "cell_type": "code",
   "execution_count": 3,
   "metadata": {},
   "outputs": [
    {
     "name": "stdout",
     "output_type": "stream",
     "text": [
      "Acc= 1727     152\n"
     ]
    }
   ],
   "source": [
    "# make a copy list to overwrite completed instruction\n",
    "xlst=lst.copy()\n",
    "acctot=0\n",
    "pos=0\n",
    "# loop could be a lot longer than list\n",
    "for f in range(1000000000):\n",
    "    command=xlst[pos]\n",
    "    # check if command previously overwritten\n",
    "    if command==\"x\":\n",
    "        print(\"Acc=\",acctot,\"   \",pos)\n",
    "        break\n",
    "    lc=len(command)\n",
    "    instr=command[:3]\n",
    "    val=int(command[lc-4:-1])\n",
    "    if command[lc-5:lc-4]=='-':\n",
    "        val=val*-1\n",
    "    if instr =='nop':\n",
    "        newpos=pos+1\n",
    "    elif instr =='acc':\n",
    "        newpos=pos+1\n",
    "        acctot=acctot+val\n",
    "    elif instr =='jmp':\n",
    "        newpos=pos+val\n",
    "    # overwrite a completed instruction\n",
    "    xlst[pos]=\"x\"\n",
    "    pos=newpos\n",
    "    "
   ]
  },
  {
   "cell_type": "markdown",
   "metadata": {},
   "source": [
    "# Part 2 "
   ]
  },
  {
   "cell_type": "code",
   "execution_count": 4,
   "metadata": {},
   "outputs": [],
   "source": [
    "# turn into a function that returns 0 if infinite loop or acc total if code reaches pos 641\n",
    "def DoCalc(alst):\n",
    "    xlst=alst.copy()\n",
    "    acctot=0\n",
    "    pos=0\n",
    "    hist=[]\n",
    "    for f in range(100000000):\n",
    "        command=xlst[pos]\n",
    "        # check if command previously overwritten\n",
    "        if command==\"x\":\n",
    "            return 0\n",
    "        lc=len(command)\n",
    "        instr=command[:3]\n",
    "        val=int(command[lc-4:-1])\n",
    "        if command[lc-5:lc-4]=='-':\n",
    "            val=val*-1\n",
    "        if instr =='nop':\n",
    "            newpos=pos+1\n",
    "        elif instr =='acc':\n",
    "            newpos=pos+1\n",
    "            acctot=acctot+val\n",
    "        elif instr =='jmp':\n",
    "            newpos=pos+val\n",
    "        #hist.append(instr)\n",
    "        # overwrite a completed instruction\n",
    "        xlst[pos]=\"x\"\n",
    "        pos=newpos\n",
    "        # \n",
    "        if pos==641:\n",
    "            return acctot\n",
    "    return acctot,f"
   ]
  },
  {
   "cell_type": "code",
   "execution_count": 5,
   "metadata": {},
   "outputs": [
    {
     "name": "stdout",
     "output_type": "stream",
     "text": [
      "552\n"
     ]
    }
   ],
   "source": [
    "# loop through all positions in list and switch nop/jmp\n",
    "for g in range(641):\n",
    "    alst=lst.copy()\n",
    "    if alst[g][:3]=='nop':\n",
    "   \n",
    "        alst[g]=alst[g].replace(\"nop\",\"jmp\")\n",
    "    elif alst[g][:3]=='jmp':\n",
    "        alst[g]=alst[g].replace(\"jmp\",\"nop\")\n",
    "                \n",
    "    res=DoCalc(alst)\n",
    "    if res !=0:\n",
    "        print(res)\n",
    "        break"
   ]
  }
 ],
 "metadata": {
  "kernelspec": {
   "display_name": "Python 3",
   "language": "python",
   "name": "python3"
  },
  "language_info": {
   "codemirror_mode": {
    "name": "ipython",
    "version": 3
   },
   "file_extension": ".py",
   "mimetype": "text/x-python",
   "name": "python",
   "nbconvert_exporter": "python",
   "pygments_lexer": "ipython3",
   "version": "3.7.3"
  }
 },
 "nbformat": 4,
 "nbformat_minor": 2
}
