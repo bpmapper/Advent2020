{
 "cells": [
  {
   "cell_type": "markdown",
   "metadata": {},
   "source": [
    "# Day 9\n"
   ]
  },
  {
   "cell_type": "code",
   "execution_count": 1,
   "metadata": {},
   "outputs": [
    {
     "data": {
      "text/html": [
       "<div>\n",
       "<style scoped>\n",
       "    .dataframe tbody tr th:only-of-type {\n",
       "        vertical-align: middle;\n",
       "    }\n",
       "\n",
       "    .dataframe tbody tr th {\n",
       "        vertical-align: top;\n",
       "    }\n",
       "\n",
       "    .dataframe thead th {\n",
       "        text-align: right;\n",
       "    }\n",
       "</style>\n",
       "<table border=\"1\" class=\"dataframe\">\n",
       "  <thead>\n",
       "    <tr style=\"text-align: right;\">\n",
       "      <th></th>\n",
       "      <th>num</th>\n",
       "    </tr>\n",
       "  </thead>\n",
       "  <tbody>\n",
       "    <tr>\n",
       "      <td>995</td>\n",
       "      <td>34168056348582</td>\n",
       "    </tr>\n",
       "    <tr>\n",
       "      <td>996</td>\n",
       "      <td>38889551577047</td>\n",
       "    </tr>\n",
       "    <tr>\n",
       "      <td>997</td>\n",
       "      <td>70344731032752</td>\n",
       "    </tr>\n",
       "    <tr>\n",
       "      <td>998</td>\n",
       "      <td>52253347246405</td>\n",
       "    </tr>\n",
       "    <tr>\n",
       "      <td>999</td>\n",
       "      <td>49850736551519</td>\n",
       "    </tr>\n",
       "  </tbody>\n",
       "</table>\n",
       "</div>"
      ],
      "text/plain": [
       "                num\n",
       "995  34168056348582\n",
       "996  38889551577047\n",
       "997  70344731032752\n",
       "998  52253347246405\n",
       "999  49850736551519"
      ]
     },
     "execution_count": 1,
     "metadata": {},
     "output_type": "execute_result"
    }
   ],
   "source": [
    "import pandas as pd\n",
    "df=pd.read_csv('day9.txt',header=None)\n",
    "df.columns=['num']\n",
    "df.tail()"
   ]
  },
  {
   "cell_type": "code",
   "execution_count": 2,
   "metadata": {},
   "outputs": [],
   "source": [
    "# brute force function - take data, current value, number of previous rows to look back\n",
    "# same number can't be used twice so 1 numbers must be below average and other above\n",
    "# seperate into two lists and calculate combinations until a solution found\n",
    "# part 1 requires no solution to be found\n",
    "def prev(data,row,prev):\n",
    "    lst=data[row-prev:row+1].num.to_list()\n",
    "    target=lst.pop()\n",
    "    lsta=[x for x in lst if x<target/2]\n",
    "    lstb=[x for x in lst if x>target/2 and x<target]\n",
    "    lstc=[]\n",
    "    for x in lsta:\n",
    "        for y in lstb:\n",
    "            if x + y == target:\n",
    "                return 1\n",
    "    \n",
    "    return 0"
   ]
  },
  {
   "cell_type": "code",
   "execution_count": 9,
   "metadata": {},
   "outputs": [
    {
     "name": "stdout",
     "output_type": "stream",
     "text": [
      "633            num\n",
      "633  507622668\n"
     ]
    }
   ],
   "source": [
    "# start at 26th row - find first instance of no solution\n",
    "for f in range(25,1000):\n",
    "    if prev(df,f,25)==0: \n",
    "        row=f\n",
    "        value=df[f:f+1]\n",
    "        print(row, value )\n",
    "        break"
   ]
  },
  {
   "cell_type": "code",
   "execution_count": 10,
   "metadata": {},
   "outputs": [
    {
     "name": "stdout",
     "output_type": "stream",
     "text": [
      "[19457622, 25638292, 33571966, 23658917, 24391116, 36326467, 23805765, 22019650, 23657289, 25476462, 29229871, 25419362, 37609803, 27205477, 27262577, 57230883, 45661149]\n"
     ]
    }
   ],
   "source": [
    "# to find a contiguous multiple row sum up to row n - two loops to add n-1 to 1 of lengths n-2 to 2 - start at top \n",
    "lsta=df[:row+1].num.to_list()\n",
    "for end in range(row-1,0,-1):\n",
    "    for start in range(row-2,0,-1):\n",
    "        lstb=lsta[start:end]\n",
    "        if sum(lstb)==lsta[row]:\n",
    "            res=lstb\n",
    "            print(res)\n",
    "            break\n",
    "           \n",
    "    "
   ]
  },
  {
   "cell_type": "code",
   "execution_count": 8,
   "metadata": {},
   "outputs": [
    {
     "data": {
      "text/plain": [
       "76688505"
      ]
     },
     "execution_count": 8,
     "metadata": {},
     "output_type": "execute_result"
    }
   ],
   "source": [
    "min(res)+max(res)"
   ]
  }
 ],
 "metadata": {
  "kernelspec": {
   "display_name": "Python 3",
   "language": "python",
   "name": "python3"
  },
  "language_info": {
   "codemirror_mode": {
    "name": "ipython",
    "version": 3
   },
   "file_extension": ".py",
   "mimetype": "text/x-python",
   "name": "python",
   "nbconvert_exporter": "python",
   "pygments_lexer": "ipython3",
   "version": "3.7.3"
  }
 },
 "nbformat": 4,
 "nbformat_minor": 2
}
